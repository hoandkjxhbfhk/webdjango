{
 "cells": [
  {
   "cell_type": "code",
   "execution_count": 1,
   "metadata": {},
   "outputs": [],
   "source": [
    "from dataclasses import dataclass\n",
    "import os\n",
    "import json\n",
    "\n",
    "class Category:\n",
    "    class Fields:\n",
    "        def __init__(self, name, slug, image):\n",
    "            self.name = name\n",
    "            self.slug = slug\n",
    "            self.image = image\n",
    "    \n",
    "    def __init__(self, name, slug, image):\n",
    "        self.model = \"shop.Category\"\n",
    "        self.fields = self.Fields(name, slug, image).__dict__"
   ]
  },
  {
   "cell_type": "code",
   "execution_count": 2,
   "metadata": {},
   "outputs": [],
   "source": [
    "image_paths = os.listdir(\"../webdjango/media/categories\")"
   ]
  },
  {
   "cell_type": "code",
   "execution_count": 3,
   "metadata": {},
   "outputs": [],
   "source": [
    "categories = []\n",
    "cate=['Footwear','Apparel','Movie']\n",
    "for i, image_path in enumerate(image_paths):\n",
    "    name = cate[i]\n",
    "    slug = \"cate \" + str(i)\n",
    "    image = os.path.join(\"categories\", image_path)\n",
    "    categories.append(Category(name, slug, image).__dict__)\n",
    "\n",
    "with open(\"../webdjango/shop/fixtures/categories.json\", \"w\") as f:\n",
    "    json.dump(categories, f, indent=4)"
   ]
  }
 ],
 "metadata": {
  "kernelspec": {
   "display_name": "webdjango",
   "language": "python",
   "name": "python3"
  },
  "language_info": {
   "codemirror_mode": {
    "name": "ipython",
    "version": 3
   },
   "file_extension": ".py",
   "mimetype": "text/x-python",
   "name": "python",
   "nbconvert_exporter": "python",
   "pygments_lexer": "ipython3",
   "version": "3.11.4"
  }
 },
 "nbformat": 4,
 "nbformat_minor": 2
}
