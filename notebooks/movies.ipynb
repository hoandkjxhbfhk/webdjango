{
 "cells": [
  {
   "cell_type": "code",
   "execution_count": 1,
   "metadata": {},
   "outputs": [],
   "source": [
    "import pandas as pd\n",
    "from django.utils.text import slugify\n",
    "from numpy.random import randint\n",
    "import random\n",
    "import os"
   ]
  },
  {
   "cell_type": "code",
   "execution_count": 2,
   "metadata": {},
   "outputs": [],
   "source": [
    "df1 = pd.read_csv(\"../webdjango/tmdb_5000_credits.csv\")\n",
    "df2 = pd.read_csv(\"../webdjango/tmdb_5000_movies.csv\")\n",
    "df1.columns = [\"id\", \"tittle\", \"cast\", \"crew\"]\n",
    "df = df2.merge(df1, on=\"id\")"
   ]
  },
  {
   "cell_type": "code",
   "execution_count": 3,
   "metadata": {},
   "outputs": [],
   "source": [
    "image_paths = os.listdir(\"../webdjango/media/products/initial\")"
   ]
  },
  {
   "cell_type": "code",
   "execution_count": 4,
   "metadata": {},
   "outputs": [],
   "source": [
    "%%capture\n",
    "df = df.head(100)\n",
    "df = df[[\"title\", \"overview\"]]\n",
    "df[\"category\"] = 1\n",
    "df[\"subCategory\"] = randint(1, 5, size=len(df))\n",
    "df[\"price\"] = randint(100000, 500000, size=len(df))\n",
    "df[\"stock\"] = 100\n",
    "df[\"available\"] = True\n",
    "df[\"image\"] = image_paths\n",
    "df[\"slug\"] = df[\"title\"].apply(slugify)\n",
    "df[\"image\"] = df[\"image\"].apply(lambda x: os.path.join(\"products/initial\", x))\n",
    "## change title to name\n",
    "df = df.rename(columns={\"title\": \"name\"})\n",
    "## rename overview to description\n",
    "df = df.rename(columns={\"overview\": \"description\"})"
   ]
  },
  {
   "cell_type": "code",
   "execution_count": 5,
   "metadata": {},
   "outputs": [],
   "source": [
    "class Product:\n",
    "    def __init__(self, fields):\n",
    "        self.model = \"shop.Product\"\n",
    "        self.fields = fields.to_dict()\n",
    "\n",
    "products = []\n",
    "for i, row in df.iterrows():\n",
    "    products.append(Product(row).__dict__)\n",
    "\n",
    "import json\n",
    "\n",
    "with open(\"../webdjango/shop/fixtures/movies.json\", \"w\") as f:\n",
    "    json.dump(products, f, indent=4)"
   ]
  }
 ],
 "metadata": {
  "kernelspec": {
   "display_name": "Python 3",
   "language": "python",
   "name": "python3"
  },
  "language_info": {
   "codemirror_mode": {
    "name": "ipython",
    "version": 3
   },
   "file_extension": ".py",
   "mimetype": "text/x-python",
   "name": "python",
   "nbconvert_exporter": "python",
   "pygments_lexer": "ipython3",
   "version": "3.12.3"
  }
 },
 "nbformat": 4,
 "nbformat_minor": 2
}
