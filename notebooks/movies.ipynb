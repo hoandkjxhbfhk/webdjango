{
 "cells": [
  {
   "cell_type": "code",
   "execution_count": 1,
   "metadata": {},
   "outputs": [],
   "source": [
    "import pandas as pd\n",
    "from django.utils.text import slugify\n",
    "from numpy.random import randint\n",
    "import random\n",
    "import os"
   ]
  },
  {
   "cell_type": "code",
   "execution_count": 2,
   "metadata": {},
   "outputs": [],
   "source": [
    "df1 = pd.read_csv(\"../webdjango/tmdb_5000_credits.csv\")\n",
    "df2 = pd.read_csv(\"../webdjango/tmdb_5000_movies.csv\")\n",
    "df1.columns = [\"id\", \"tittle\", \"cast\", \"crew\"]\n",
    "df = df2.merge(df1, on=\"id\")"
   ]
  },
  {
   "cell_type": "code",
   "execution_count": 3,
   "metadata": {},
   "outputs": [],
   "source": [
    "image_paths = os.listdir(\"../webdjango/media/products/initial\")"
   ]
  },
  {
   "cell_type": "code",
   "execution_count": 10,
   "metadata": {},
   "outputs": [
    {
     "name": "stdout",
     "output_type": "stream",
     "text": [
      "['1.6_245943.jpg', '1.6_56415.jpg', '1.9_270846.jpg', '1.9_60666.jpg', '1.9_96870.jpg', '11496.jpg', '11923.jpg', '11949.jpg', '12847.jpg', '12882.jpg', '12958.jpg', '12966.jpg', '13198.jpg', '13343.jpg', '13359.jpg', '13552.jpg', '13555.jpg', '13682.jpg', '14431.jpg', '15526.jpg', '15543.jpg', '15714.jpg', '16732.jpg', '17019.jpg', '18171.jpg', '18403.jpg', '18546.jpg', '19329.jpg', '19387.jpg', '2.1_339034.jpg', '2.1_68291.jpg', '2.1_81693.jpg', '2.1_88925.jpg', '2.2_118589.jpg', '2.2_55946.jpg', '2.2_57181.jpg', '2.2_71198.jpg', '2.2_93405.jpg', '2.3_118836.jpg', '2.3_61765.jpg', '2.3_82815.jpg', '2.4_109376.jpg', '2.4_114658.jpg', '2.4_116839.jpg', '2.4_117550.jpg', '2.4_185183.jpg', '2.4_223250.jpg', '2.4_299930.jpg', '2.4_54673.jpg', '2.4_56600.jpg', '2.4_73396.jpg', '2.5_168172.jpg', '2.6_116165.jpg', '2.6_118665.jpg', '2.7_110629.jpg', '2.7_326820.jpg', '2.7_360916.jpg', '2.7_51134.jpg', '2.7_93072.jpg', '2.8_101615.jpg', '2.8_113449.jpg', '2.8_116756.jpg', '2.8_118539.jpg', '2.8_120598.jpg', '2.8_121261.jpg', '2.8_266747.jpg', '2.8_46213.jpg', '2.8_54240.jpg', '2.8_73043.jpg', '2.8_99030.jpg', '2.9_115834.jpg', '2.9_49922.jpg', '2.9_77942.jpg', '2.9_93300.jpg', '20779.jpg', '20868.jpg', '20923.jpg', '21181.jpg', '22101.jpg', '22361.jpg', '22501.jpg', '23129.jpg', '23132.jpg', '23249.jpg', '23825.jpg', '23848.jpg', '24098.jpg', '24409.jpg', '24695.jpg', '24874.jpg', '24943.jpg', '25490.jpg', '25520.jpg', '2611.jpg', '26553.jpg', '26598.jpg', '2694.jpg', '27081.jpg', '2720.jpg', '2820.jpg', '28638.jpg', '28653.jpg', '28662.jpg', '2901.jpg', '29150.jpg', '29166.jpg', '29176.jpg', '3.0_104837.jpg', '3.0_121262.jpg', '3.0_213802.jpg', '3.0_223249.jpg', '3.0_246894.jpg', '3.0_81027.jpg', '3.0_84796.jpg', '3.0_91934.jpg', '3.0_92532.jpg', '3.1_110647.jpg', '3.1_223251.jpg', '3.1_82213.jpg', '3.2_113438.jpg', '3.2_115624.jpg', '3.2_165494.jpg', '3.2_28174.jpg', '3.2_47127.jpg', '3.2_83170.jpg', '3.2_99969.jpg', '3.3_110857.jpg', '3.3_250282.jpg', '3.3_295254.jpg', '3.3_295427.jpg', '3.3_327554.jpg', '3.3_52846.jpg', '3.3_59878.jpg', '3.3_85518.jpg', '3.3_93516.jpg', '3.3_97371.jpg', '3.4_103617.jpg', '3.4_106402.jpg', '3.4_113043.jpg', '3.4_120185.jpg', '3.4_120389.jpg', '3.4_275022.jpg', '3.4_329028.jpg', '3.4_78062.jpg', '3.4_89308.jpg', '3.4_95334.jpg', '3.4_96804.jpg', '3.5_106521.jpg', '3.5_115976.jpg', '3.5_50177.jpg', '3.5_53611.jpg', '3.5_80771.jpg', '3.5_84316.jpg', '3.5_84472.jpg', '3.5_84485.jpg', '3.5_87700.jpg', '3.5_94077.jpg', '31091.jpg', '31104.jpg', '31114.jpg', '31119.jpg', '31147.jpg', '31148.jpg', '31154.jpg', '31168.jpg', '31178.jpg', '3167.jpg', '32552.jpg', '32757.jpg', '32812.jpg', '32846.jpg', '3301.jpg', '33108.jpg', '33266.jpg', '33648.jpg', '33766.jpg', '34008.jpg', '34014.jpg', '34024.jpg', '34044.jpg', '34066.jpg', '34118.jpg', '34155.jpg', '34165.jpg', '34181.jpg', '34188.jpg', '34835.jpg', '34861.jpg', '35432.jpg', '35435.jpg', '35452.jpg', '3556.jpg', '3569.jpg', '35874.jpg', '35882.jpg', '36131.jpg', '36718.jpg', '36719.jpg', '36720.jpg', '36727.jpg', '37167.jpg', '37248.jpg', '37568.jpg', '37596.jpg', '38283.jpg', '38288.jpg', '38480.jpg', '38501.jpg', '3855.jpg', '38868.jpg', '38905.jpg', '3893.jpg', '38932.jpg', '38954.jpg', '38996.jpg', '39315.jpg', '39333.jpg', '39582.jpg', '39601.jpg', '39607.jpg', '39742.jpg', '39830.jpg', '39839.jpg', '39847.jpg', '39851.jpg', '39973.jpg', '40124.jpg', '40158.jpg', '40923.jpg', '40943.jpg', '40980.jpg', '40988.jpg', '40991.jpg', '41234.jpg', '4170.jpg', '41725.jpg', '41752.jpg', '41985.jpg', '41986.jpg', '41987.jpg', '41994.jpg', '42017.jpg', '4204.jpg', '42276.jpg', '42583.jpg', '43871.jpg', '44216.jpg', '44517.jpg', '44749.jpg', '44783.jpg', '4525.jpg', '45383.jpg', '45384.jpg', '45407.jpg', '45802.jpg', '46087.jpg', '46612.jpg', '46834.jpg', '4718.jpg', '4729.jpg', '47612.jpg', '47640.jpg', '49582.jpg', '50720.jpg', '50777.jpg', '5343.jpg', '53732.jpg', '53870.jpg', '54111.jpg', '54117.jpg', '54127.jpg', '54145.jpg', '5417.jpg', '5608.jpg', '56871.jpg', '56879.jpg', '56904.jpg', '56972.jpg', '56995.jpg', '57011.jpg', '58327.jpg', '59050.jpg', '5917.jpg', '5928.jpg', '7595.jpg', '7730.jpg', '7843.jpg', '8175.jpg', '8320.jpg', '8381.jpg', '8383.jpg', '8384.jpg', '8528.jpg', '8542.jpg', '8574.jpg', '9038.jpg', '9055.jpg', '9118.jpg', '9430.jpg', '9497.jpg']\n"
     ]
    }
   ],
   "source": [
    "print(image_paths)"
   ]
  },
  {
   "cell_type": "code",
   "execution_count": 7,
   "metadata": {},
   "outputs": [
    {
     "ename": "ValueError",
     "evalue": "Length of values (300) does not match length of index (100)",
     "output_type": "error",
     "traceback": [
      "\u001b[1;31m---------------------------------------------------------------------------\u001b[0m",
      "\u001b[1;31mValueError\u001b[0m                                Traceback (most recent call last)",
      "Cell \u001b[1;32mIn[7], line 8\u001b[0m\n\u001b[0;32m      6\u001b[0m df[\u001b[38;5;124m\"\u001b[39m\u001b[38;5;124mstock\u001b[39m\u001b[38;5;124m\"\u001b[39m] \u001b[38;5;241m=\u001b[39m \u001b[38;5;241m100\u001b[39m\n\u001b[0;32m      7\u001b[0m df[\u001b[38;5;124m\"\u001b[39m\u001b[38;5;124mavailable\u001b[39m\u001b[38;5;124m\"\u001b[39m] \u001b[38;5;241m=\u001b[39m \u001b[38;5;28;01mTrue\u001b[39;00m\n\u001b[1;32m----> 8\u001b[0m \u001b[43mdf\u001b[49m\u001b[43m[\u001b[49m\u001b[38;5;124;43m\"\u001b[39;49m\u001b[38;5;124;43mimage\u001b[39;49m\u001b[38;5;124;43m\"\u001b[39;49m\u001b[43m]\u001b[49m \u001b[38;5;241m=\u001b[39m image_paths\n\u001b[0;32m      9\u001b[0m df[\u001b[38;5;124m\"\u001b[39m\u001b[38;5;124mslug\u001b[39m\u001b[38;5;124m\"\u001b[39m] \u001b[38;5;241m=\u001b[39m df[\u001b[38;5;124m\"\u001b[39m\u001b[38;5;124mtitle\u001b[39m\u001b[38;5;124m\"\u001b[39m]\u001b[38;5;241m.\u001b[39mapply(slugify)\n\u001b[0;32m     10\u001b[0m df[\u001b[38;5;124m\"\u001b[39m\u001b[38;5;124mimage\u001b[39m\u001b[38;5;124m\"\u001b[39m] \u001b[38;5;241m=\u001b[39m df[\u001b[38;5;124m\"\u001b[39m\u001b[38;5;124mimage\u001b[39m\u001b[38;5;124m\"\u001b[39m]\u001b[38;5;241m.\u001b[39mapply(\u001b[38;5;28;01mlambda\u001b[39;00m x: os\u001b[38;5;241m.\u001b[39mpath\u001b[38;5;241m.\u001b[39mjoin(\u001b[38;5;124m\"\u001b[39m\u001b[38;5;124mproducts/initial\u001b[39m\u001b[38;5;124m\"\u001b[39m, x))\n",
      "File \u001b[1;32mc:\\Users\\ADMIN\\AppData\\Local\\Programs\\Python\\Python311\\Lib\\site-packages\\pandas\\core\\frame.py:4094\u001b[0m, in \u001b[0;36mDataFrame.__setitem__\u001b[1;34m(self, key, value)\u001b[0m\n\u001b[0;32m   4091\u001b[0m     \u001b[38;5;28mself\u001b[39m\u001b[38;5;241m.\u001b[39m_setitem_array([key], value)\n\u001b[0;32m   4092\u001b[0m \u001b[38;5;28;01melse\u001b[39;00m:\n\u001b[0;32m   4093\u001b[0m     \u001b[38;5;66;03m# set column\u001b[39;00m\n\u001b[1;32m-> 4094\u001b[0m     \u001b[38;5;28;43mself\u001b[39;49m\u001b[38;5;241;43m.\u001b[39;49m\u001b[43m_set_item\u001b[49m\u001b[43m(\u001b[49m\u001b[43mkey\u001b[49m\u001b[43m,\u001b[49m\u001b[43m \u001b[49m\u001b[43mvalue\u001b[49m\u001b[43m)\u001b[49m\n",
      "File \u001b[1;32mc:\\Users\\ADMIN\\AppData\\Local\\Programs\\Python\\Python311\\Lib\\site-packages\\pandas\\core\\frame.py:4303\u001b[0m, in \u001b[0;36mDataFrame._set_item\u001b[1;34m(self, key, value)\u001b[0m\n\u001b[0;32m   4293\u001b[0m \u001b[38;5;28;01mdef\u001b[39;00m \u001b[38;5;21m_set_item\u001b[39m(\u001b[38;5;28mself\u001b[39m, key, value) \u001b[38;5;241m-\u001b[39m\u001b[38;5;241m>\u001b[39m \u001b[38;5;28;01mNone\u001b[39;00m:\n\u001b[0;32m   4294\u001b[0m \u001b[38;5;250m    \u001b[39m\u001b[38;5;124;03m\"\"\"\u001b[39;00m\n\u001b[0;32m   4295\u001b[0m \u001b[38;5;124;03m    Add series to DataFrame in specified column.\u001b[39;00m\n\u001b[0;32m   4296\u001b[0m \n\u001b[1;32m   (...)\u001b[0m\n\u001b[0;32m   4301\u001b[0m \u001b[38;5;124;03m    ensure homogeneity.\u001b[39;00m\n\u001b[0;32m   4302\u001b[0m \u001b[38;5;124;03m    \"\"\"\u001b[39;00m\n\u001b[1;32m-> 4303\u001b[0m     value, refs \u001b[38;5;241m=\u001b[39m \u001b[38;5;28;43mself\u001b[39;49m\u001b[38;5;241;43m.\u001b[39;49m\u001b[43m_sanitize_column\u001b[49m\u001b[43m(\u001b[49m\u001b[43mvalue\u001b[49m\u001b[43m)\u001b[49m\n\u001b[0;32m   4305\u001b[0m     \u001b[38;5;28;01mif\u001b[39;00m (\n\u001b[0;32m   4306\u001b[0m         key \u001b[38;5;129;01min\u001b[39;00m \u001b[38;5;28mself\u001b[39m\u001b[38;5;241m.\u001b[39mcolumns\n\u001b[0;32m   4307\u001b[0m         \u001b[38;5;129;01mand\u001b[39;00m value\u001b[38;5;241m.\u001b[39mndim \u001b[38;5;241m==\u001b[39m \u001b[38;5;241m1\u001b[39m\n\u001b[0;32m   4308\u001b[0m         \u001b[38;5;129;01mand\u001b[39;00m \u001b[38;5;129;01mnot\u001b[39;00m \u001b[38;5;28misinstance\u001b[39m(value\u001b[38;5;241m.\u001b[39mdtype, ExtensionDtype)\n\u001b[0;32m   4309\u001b[0m     ):\n\u001b[0;32m   4310\u001b[0m         \u001b[38;5;66;03m# broadcast across multiple columns if necessary\u001b[39;00m\n\u001b[0;32m   4311\u001b[0m         \u001b[38;5;28;01mif\u001b[39;00m \u001b[38;5;129;01mnot\u001b[39;00m \u001b[38;5;28mself\u001b[39m\u001b[38;5;241m.\u001b[39mcolumns\u001b[38;5;241m.\u001b[39mis_unique \u001b[38;5;129;01mor\u001b[39;00m \u001b[38;5;28misinstance\u001b[39m(\u001b[38;5;28mself\u001b[39m\u001b[38;5;241m.\u001b[39mcolumns, MultiIndex):\n",
      "File \u001b[1;32mc:\\Users\\ADMIN\\AppData\\Local\\Programs\\Python\\Python311\\Lib\\site-packages\\pandas\\core\\frame.py:5042\u001b[0m, in \u001b[0;36mDataFrame._sanitize_column\u001b[1;34m(self, value)\u001b[0m\n\u001b[0;32m   5039\u001b[0m     \u001b[38;5;28;01mreturn\u001b[39;00m _reindex_for_setitem(value, \u001b[38;5;28mself\u001b[39m\u001b[38;5;241m.\u001b[39mindex)\n\u001b[0;32m   5041\u001b[0m \u001b[38;5;28;01mif\u001b[39;00m is_list_like(value):\n\u001b[1;32m-> 5042\u001b[0m     \u001b[43mcom\u001b[49m\u001b[38;5;241;43m.\u001b[39;49m\u001b[43mrequire_length_match\u001b[49m\u001b[43m(\u001b[49m\u001b[43mvalue\u001b[49m\u001b[43m,\u001b[49m\u001b[43m \u001b[49m\u001b[38;5;28;43mself\u001b[39;49m\u001b[38;5;241;43m.\u001b[39;49m\u001b[43mindex\u001b[49m\u001b[43m)\u001b[49m\n\u001b[0;32m   5043\u001b[0m \u001b[38;5;28;01mreturn\u001b[39;00m sanitize_array(value, \u001b[38;5;28mself\u001b[39m\u001b[38;5;241m.\u001b[39mindex, copy\u001b[38;5;241m=\u001b[39m\u001b[38;5;28;01mTrue\u001b[39;00m, allow_2d\u001b[38;5;241m=\u001b[39m\u001b[38;5;28;01mTrue\u001b[39;00m), \u001b[38;5;28;01mNone\u001b[39;00m\n",
      "File \u001b[1;32mc:\\Users\\ADMIN\\AppData\\Local\\Programs\\Python\\Python311\\Lib\\site-packages\\pandas\\core\\common.py:561\u001b[0m, in \u001b[0;36mrequire_length_match\u001b[1;34m(data, index)\u001b[0m\n\u001b[0;32m    557\u001b[0m \u001b[38;5;250m\u001b[39m\u001b[38;5;124;03m\"\"\"\u001b[39;00m\n\u001b[0;32m    558\u001b[0m \u001b[38;5;124;03mCheck the length of data matches the length of the index.\u001b[39;00m\n\u001b[0;32m    559\u001b[0m \u001b[38;5;124;03m\"\"\"\u001b[39;00m\n\u001b[0;32m    560\u001b[0m \u001b[38;5;28;01mif\u001b[39;00m \u001b[38;5;28mlen\u001b[39m(data) \u001b[38;5;241m!=\u001b[39m \u001b[38;5;28mlen\u001b[39m(index):\n\u001b[1;32m--> 561\u001b[0m     \u001b[38;5;28;01mraise\u001b[39;00m \u001b[38;5;167;01mValueError\u001b[39;00m(\n\u001b[0;32m    562\u001b[0m         \u001b[38;5;124m\"\u001b[39m\u001b[38;5;124mLength of values \u001b[39m\u001b[38;5;124m\"\u001b[39m\n\u001b[0;32m    563\u001b[0m         \u001b[38;5;124mf\u001b[39m\u001b[38;5;124m\"\u001b[39m\u001b[38;5;124m(\u001b[39m\u001b[38;5;132;01m{\u001b[39;00m\u001b[38;5;28mlen\u001b[39m(data)\u001b[38;5;132;01m}\u001b[39;00m\u001b[38;5;124m) \u001b[39m\u001b[38;5;124m\"\u001b[39m\n\u001b[0;32m    564\u001b[0m         \u001b[38;5;124m\"\u001b[39m\u001b[38;5;124mdoes not match length of index \u001b[39m\u001b[38;5;124m\"\u001b[39m\n\u001b[0;32m    565\u001b[0m         \u001b[38;5;124mf\u001b[39m\u001b[38;5;124m\"\u001b[39m\u001b[38;5;124m(\u001b[39m\u001b[38;5;132;01m{\u001b[39;00m\u001b[38;5;28mlen\u001b[39m(index)\u001b[38;5;132;01m}\u001b[39;00m\u001b[38;5;124m)\u001b[39m\u001b[38;5;124m\"\u001b[39m\n\u001b[0;32m    566\u001b[0m     )\n",
      "\u001b[1;31mValueError\u001b[0m: Length of values (300) does not match length of index (100)"
     ]
    }
   ],
   "source": [
    "%%capture\n",
    "df = df.head(100)\n",
    "df = df[[\"title\", \"overview\"]]\n",
    "df[\"category\"] = 3\n",
    "df[\"subCategory\"] = randint(1, 5, size=len(df))\n",
    "df[\"price\"] = randint(10, 500, size=len(df))*1000\n",
    "df[\"stock\"] = 100\n",
    "df[\"available\"] = True\n",
    "df[\"image\"] = image_paths\n",
    "df[\"slug\"] = df[\"title\"].apply(slugify)\n",
    "df[\"image\"] = df[\"image\"].apply(lambda x: os.path.join(\"products/initial\", x))\n",
    "## change title to name\n",
    "df = df.rename(columns={\"title\": \"name\"})\n",
    "## rename overview to description\n",
    "df = df.rename(columns={\"overview\": \"description\"})"
   ]
  },
  {
   "cell_type": "code",
   "execution_count": 8,
   "metadata": {},
   "outputs": [
    {
     "data": {
      "text/html": [
       "<div>\n",
       "<style scoped>\n",
       "    .dataframe tbody tr th:only-of-type {\n",
       "        vertical-align: middle;\n",
       "    }\n",
       "\n",
       "    .dataframe tbody tr th {\n",
       "        vertical-align: top;\n",
       "    }\n",
       "\n",
       "    .dataframe thead th {\n",
       "        text-align: right;\n",
       "    }\n",
       "</style>\n",
       "<table border=\"1\" class=\"dataframe\">\n",
       "  <thead>\n",
       "    <tr style=\"text-align: right;\">\n",
       "      <th></th>\n",
       "      <th>title</th>\n",
       "      <th>overview</th>\n",
       "      <th>category</th>\n",
       "      <th>subCategory</th>\n",
       "      <th>price</th>\n",
       "      <th>stock</th>\n",
       "      <th>available</th>\n",
       "    </tr>\n",
       "  </thead>\n",
       "  <tbody>\n",
       "    <tr>\n",
       "      <th>0</th>\n",
       "      <td>Avatar</td>\n",
       "      <td>In the 22nd century, a paraplegic Marine is di...</td>\n",
       "      <td>1</td>\n",
       "      <td>4</td>\n",
       "      <td>498000</td>\n",
       "      <td>100</td>\n",
       "      <td>True</td>\n",
       "    </tr>\n",
       "    <tr>\n",
       "      <th>1</th>\n",
       "      <td>Pirates of the Caribbean: At World's End</td>\n",
       "      <td>Captain Barbossa, long believed to be dead, ha...</td>\n",
       "      <td>1</td>\n",
       "      <td>4</td>\n",
       "      <td>46000</td>\n",
       "      <td>100</td>\n",
       "      <td>True</td>\n",
       "    </tr>\n",
       "    <tr>\n",
       "      <th>2</th>\n",
       "      <td>Spectre</td>\n",
       "      <td>A cryptic message from Bond’s past sends him o...</td>\n",
       "      <td>1</td>\n",
       "      <td>4</td>\n",
       "      <td>178000</td>\n",
       "      <td>100</td>\n",
       "      <td>True</td>\n",
       "    </tr>\n",
       "    <tr>\n",
       "      <th>3</th>\n",
       "      <td>The Dark Knight Rises</td>\n",
       "      <td>Following the death of District Attorney Harve...</td>\n",
       "      <td>1</td>\n",
       "      <td>3</td>\n",
       "      <td>47000</td>\n",
       "      <td>100</td>\n",
       "      <td>True</td>\n",
       "    </tr>\n",
       "    <tr>\n",
       "      <th>4</th>\n",
       "      <td>John Carter</td>\n",
       "      <td>John Carter is a war-weary, former military ca...</td>\n",
       "      <td>1</td>\n",
       "      <td>1</td>\n",
       "      <td>474000</td>\n",
       "      <td>100</td>\n",
       "      <td>True</td>\n",
       "    </tr>\n",
       "  </tbody>\n",
       "</table>\n",
       "</div>"
      ],
      "text/plain": [
       "                                      title  \\\n",
       "0                                    Avatar   \n",
       "1  Pirates of the Caribbean: At World's End   \n",
       "2                                   Spectre   \n",
       "3                     The Dark Knight Rises   \n",
       "4                               John Carter   \n",
       "\n",
       "                                            overview  category  subCategory  \\\n",
       "0  In the 22nd century, a paraplegic Marine is di...         1            4   \n",
       "1  Captain Barbossa, long believed to be dead, ha...         1            4   \n",
       "2  A cryptic message from Bond’s past sends him o...         1            4   \n",
       "3  Following the death of District Attorney Harve...         1            3   \n",
       "4  John Carter is a war-weary, former military ca...         1            1   \n",
       "\n",
       "    price  stock  available  \n",
       "0  498000    100       True  \n",
       "1   46000    100       True  \n",
       "2  178000    100       True  \n",
       "3   47000    100       True  \n",
       "4  474000    100       True  "
      ]
     },
     "execution_count": 8,
     "metadata": {},
     "output_type": "execute_result"
    }
   ],
   "source": [
    "df.head()"
   ]
  },
  {
   "cell_type": "code",
   "execution_count": 9,
   "metadata": {},
   "outputs": [],
   "source": [
    "class Product:\n",
    "    def __init__(self, fields):\n",
    "        self.model = \"shop.Product\"\n",
    "        self.fields = fields.to_dict()\n",
    "\n",
    "products = []\n",
    "for i, row in df.iterrows():\n",
    "    products.append(Product(row).__dict__)\n",
    "\n",
    "import json\n",
    "\n",
    "with open(\"../webdjango/shop/fixtures/movies.json\", \"w\") as f:\n",
    "    json.dump(products, f, indent=4)"
   ]
  }
 ],
 "metadata": {
  "kernelspec": {
   "display_name": "Python 3",
   "language": "python",
   "name": "python3"
  },
  "language_info": {
   "codemirror_mode": {
    "name": "ipython",
    "version": 3
   },
   "file_extension": ".py",
   "mimetype": "text/x-python",
   "name": "python",
   "nbconvert_exporter": "python",
   "pygments_lexer": "ipython3",
   "version": "3.11.4"
  }
 },
 "nbformat": 4,
 "nbformat_minor": 2
}
