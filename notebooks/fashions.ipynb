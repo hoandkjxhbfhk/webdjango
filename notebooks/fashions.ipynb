{
 "cells": [
  {
   "cell_type": "code",
   "execution_count": 31,
   "metadata": {},
   "outputs": [],
   "source": [
    "import pandas as pd\n",
    "from django.utils.text import slugify\n",
    "from numpy.random import randint\n",
    "import random\n",
    "import pathlib\n",
    "import os\n",
    "import json"
   ]
  },
  {
   "cell_type": "code",
   "execution_count": 2,
   "metadata": {},
   "outputs": [],
   "source": [
    "df = pd.read_csv(\"fashion.csv\")"
   ]
  },
  {
   "cell_type": "code",
   "execution_count": 8,
   "metadata": {},
   "outputs": [],
   "source": [
    "images_paths = list(pathlib.Path(\"images\").rglob(\"*.jpg\"))"
   ]
  },
  {
   "cell_type": "code",
   "execution_count": 10,
   "metadata": {},
   "outputs": [],
   "source": [
    "images_paths = random.sample(images_paths, 200)"
   ]
  },
  {
   "cell_type": "code",
   "execution_count": 40,
   "metadata": {},
   "outputs": [],
   "source": [
    "class Product:\n",
    "    class Fields:\n",
    "        def __init__(self, category, subcategory, name, description, image):\n",
    "            self.category = category\n",
    "            self.subCategory = subcategory\n",
    "            self.name = name\n",
    "            self.price = randint(10000, 100000)\n",
    "            self.description = description\n",
    "            self.image = image\n",
    "            self.slug = slugify(name)\n",
    "            self.available = True\n",
    "            self.stock = randint(0, 100)\n",
    "\n",
    "    def __init__(self, category, subcategory, name, description, image):\n",
    "        self.model = \"shop.Product\"\n",
    "        self.fields = self.Fields(category, subcategory, name, description, image).__dict__"
   ]
  },
  {
   "cell_type": "code",
   "execution_count": 42,
   "metadata": {},
   "outputs": [],
   "source": [
    "products = []\n",
    "\n",
    "for images_path in images_paths:\n",
    "    row = df[df[\"ProductId\"] == int(images_path.stem)]\n",
    "    category = 2 if row[\"Category\"].values[0] == \"Apparel\" else 3\n",
    "    subcategory = randint(1, 5)\n",
    "    name = row[\"ProductTitle\"].values[0]\n",
    "    description = row[\"Usage\"].values[0]\n",
    "    image = os.path.join(\"products/initial\", images_path.name)\n",
    "    products.append(Product(category, subcategory, name, description, image).__dict__)\n",
    "    # print(images_path)\n",
    "    # print(os.path.join(\"../webdjango/media/products/initial\", images_path.name))\n",
    "    # os.rename(images_path, os.path.join(\"../webdjango/media/products/initial\", images_path.name))\n",
    "\n",
    "with open(\"../webdjango/shop/fixtures/fashions.json\", \"w\") as f:\n",
    "    json.dump(products, f, indent=4)"
   ]
  }
 ],
 "metadata": {
  "kernelspec": {
   "display_name": "webdjango",
   "language": "python",
   "name": "python3"
  },
  "language_info": {
   "codemirror_mode": {
    "name": "ipython",
    "version": 3
   },
   "file_extension": ".py",
   "mimetype": "text/x-python",
   "name": "python",
   "nbconvert_exporter": "python",
   "pygments_lexer": "ipython3",
   "version": "3.12.3"
  }
 },
 "nbformat": 4,
 "nbformat_minor": 2
}
