{
 "cells": [
  {
   "cell_type": "code",
   "execution_count": 1,
   "metadata": {},
   "outputs": [],
   "source": [
    "from dataclasses import dataclass\n",
    "import os\n",
    "import json\n",
    "import pandas as pd\n",
    "import numpy as np\n",
    "\n",
    "class SubCategory:\n",
    "    class Fields:\n",
    "        def __init__(self, name, slug, image):\n",
    "            self.name = name\n",
    "            self.slug = slug\n",
    "            self.image = image\n",
    "    \n",
    "    def __init__(self, name, slug, image):\n",
    "        self.model = \"shop.SubCategory\"\n",
    "        self.fields = self.Fields(name, slug, image).__dict__"
   ]
  },
  {
   "cell_type": "code",
   "execution_count": 2,
   "metadata": {},
   "outputs": [],
   "source": [
    "image_paths = os.listdir(\"../webdjango/media/subcategories\")"
   ]
  },
  {
   "cell_type": "code",
   "execution_count": 3,
   "metadata": {},
   "outputs": [
    {
     "name": "stdout",
     "output_type": "stream",
     "text": [
      "['Screenshot 2024-05-13 001135.png', 'Screenshot 2024-05-13 001155.png', 'Screenshot 2024-05-13 001244.png', 'Screenshot 2024-05-13 001259.png', 'Screenshot 2024-05-13 001323.png', 'Screenshot 2024-05-13 001343.png', 'Screenshot 2024-05-13 001354.png', 'Screenshot 2024-05-13 001408.png', 'Screenshot 2024-05-13 001528.png', 'Screenshot 2024-05-13 001543.png']\n"
     ]
    }
   ],
   "source": [
    "print(image_paths)"
   ]
  },
  {
   "cell_type": "code",
   "execution_count": 4,
   "metadata": {},
   "outputs": [],
   "source": [
    "df=pd.read_csv('fashion.csv')"
   ]
  },
  {
   "cell_type": "code",
   "execution_count": 5,
   "metadata": {},
   "outputs": [],
   "source": [
    "CATE = list(df['SubCategory'].unique())\n",
    "CATE.append('Moviesub')\n"
   ]
  },
  {
   "cell_type": "code",
   "execution_count": 6,
   "metadata": {},
   "outputs": [
    {
     "name": "stdout",
     "output_type": "stream",
     "text": [
      "['Topwear', 'Bottomwear', 'Dress', 'Innerwear', 'Socks', 'Apparel Set', 'Shoes', 'Flip Flops', 'Sandal', 'Moviesub']\n"
     ]
    }
   ],
   "source": [
    "print(CATE)"
   ]
  },
  {
   "cell_type": "code",
   "execution_count": 7,
   "metadata": {},
   "outputs": [],
   "source": [
    "categories = []\n",
    "\n",
    "for i, image_path in enumerate(image_paths):\n",
    "    name = CATE[i]\n",
    "    slug = \"subcate\" + str(i)\n",
    "    image = os.path.join(\"subcategories\", image_path)\n",
    "    categories.append(SubCategory(name, slug, image).__dict__)\n",
    "\n",
    "with open(\"../webdjango/shop/fixtures/subcategories.json\", \"w\") as f:\n",
    "    json.dump(categories, f, indent=4)"
   ]
  }
 ],
 "metadata": {
  "kernelspec": {
   "display_name": "webdjango",
   "language": "python",
   "name": "python3"
  },
  "language_info": {
   "codemirror_mode": {
    "name": "ipython",
    "version": 3
   },
   "file_extension": ".py",
   "mimetype": "text/x-python",
   "name": "python",
   "nbconvert_exporter": "python",
   "pygments_lexer": "ipython3",
   "version": "3.11.4"
  }
 },
 "nbformat": 4,
 "nbformat_minor": 2
}
