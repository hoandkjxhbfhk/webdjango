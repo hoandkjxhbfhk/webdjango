{
 "cells": [
  {
   "cell_type": "code",
   "execution_count": 1,
   "metadata": {},
   "outputs": [],
   "source": [
    "import pandas as pd\n",
    "import numpy as np\n",
    "import json\n",
    "\n",
    "from django.utils.text import slugify\n",
    "import random\n",
    "from django.utils import timezone"
   ]
  },
  {
   "cell_type": "code",
   "execution_count": 2,
   "metadata": {},
   "outputs": [],
   "source": [
    "df1 = pd.read_csv(\n",
    "    r\"\\Users\\ADMIN\\Downloads\\allbachelor du phong\\web\\The-Middles\\Co-so-AI\\webdjango\\tmdb_5000_credits.csv\"\n",
    ")\n",
    "df2 = pd.read_csv(\n",
    "    r\"\\Users\\ADMIN\\Downloads\\allbachelor du phong\\web\\The-Middles\\Co-so-AI\\webdjango\\tmdb_5000_movies.csv\"\n",
    ")\n",
    "df1.columns = [\"id\", \"tittle\", \"cast\", \"crew\"]\n",
    "# Kết hợp hai DataFrame df1 và df2 dựa trên cột 'id'\n",
    "df = df2.merge(df1, on=\"id\")\n",
    "# Tạo DataFrame df3 từ df với các cột như yêu cầu"
   ]
  },
  {
   "cell_type": "code",
   "execution_count": 3,
   "metadata": {},
   "outputs": [
    {
     "name": "stderr",
     "output_type": "stream",
     "text": [
      "C:\\Users\\ADMIN\\AppData\\Local\\Temp\\ipykernel_22656\\3039307309.py:4: SettingWithCopyWarning: \n",
      "A value is trying to be set on a copy of a slice from a DataFrame.\n",
      "Try using .loc[row_indexer,col_indexer] = value instead\n",
      "\n",
      "See the caveats in the documentation: https://pandas.pydata.org/pandas-docs/stable/user_guide/indexing.html#returning-a-view-versus-a-copy\n",
      "  df3['category'] = 1\n",
      "C:\\Users\\ADMIN\\AppData\\Local\\Temp\\ipykernel_22656\\3039307309.py:5: SettingWithCopyWarning: \n",
      "A value is trying to be set on a copy of a slice from a DataFrame.\n",
      "Try using .loc[row_indexer,col_indexer] = value instead\n",
      "\n",
      "See the caveats in the documentation: https://pandas.pydata.org/pandas-docs/stable/user_guide/indexing.html#returning-a-view-versus-a-copy\n",
      "  df3['subCategory'] = 1\n",
      "C:\\Users\\ADMIN\\AppData\\Local\\Temp\\ipykernel_22656\\3039307309.py:6: SettingWithCopyWarning: \n",
      "A value is trying to be set on a copy of a slice from a DataFrame.\n",
      "Try using .loc[row_indexer,col_indexer] = value instead\n",
      "\n",
      "See the caveats in the documentation: https://pandas.pydata.org/pandas-docs/stable/user_guide/indexing.html#returning-a-view-versus-a-copy\n",
      "  df3['price'] = np.random.randint(100000, 500000, size=len(df3))\n",
      "C:\\Users\\ADMIN\\AppData\\Local\\Temp\\ipykernel_22656\\3039307309.py:7: SettingWithCopyWarning: \n",
      "A value is trying to be set on a copy of a slice from a DataFrame.\n",
      "Try using .loc[row_indexer,col_indexer] = value instead\n",
      "\n",
      "See the caveats in the documentation: https://pandas.pydata.org/pandas-docs/stable/user_guide/indexing.html#returning-a-view-versus-a-copy\n",
      "  df3['stock'] = 100\n",
      "C:\\Users\\ADMIN\\AppData\\Local\\Temp\\ipykernel_22656\\3039307309.py:8: SettingWithCopyWarning: \n",
      "A value is trying to be set on a copy of a slice from a DataFrame.\n",
      "Try using .loc[row_indexer,col_indexer] = value instead\n",
      "\n",
      "See the caveats in the documentation: https://pandas.pydata.org/pandas-docs/stable/user_guide/indexing.html#returning-a-view-versus-a-copy\n",
      "  df3['available'] = True\n",
      "C:\\Users\\ADMIN\\AppData\\Local\\Temp\\ipykernel_22656\\3039307309.py:9: SettingWithCopyWarning: \n",
      "A value is trying to be set on a copy of a slice from a DataFrame.\n",
      "Try using .loc[row_indexer,col_indexer] = value instead\n",
      "\n",
      "See the caveats in the documentation: https://pandas.pydata.org/pandas-docs/stable/user_guide/indexing.html#returning-a-view-versus-a-copy\n",
      "  df3['image']=r'\\products\\2024\\04\\22\\view_-_2023-08-30T212959.480.png'\n",
      "C:\\Users\\ADMIN\\AppData\\Local\\Temp\\ipykernel_22656\\3039307309.py:14: SettingWithCopyWarning: \n",
      "A value is trying to be set on a copy of a slice from a DataFrame.\n",
      "Try using .loc[row_indexer,col_indexer] = value instead\n",
      "\n",
      "See the caveats in the documentation: https://pandas.pydata.org/pandas-docs/stable/user_guide/indexing.html#returning-a-view-versus-a-copy\n",
      "  df3['slug'] = df3['title'].apply(slugify)\n"
     ]
    }
   ],
   "source": [
    "df3 = df[[\"title\", \"overview\", \"id\"]]\n",
    "\n",
    "# Thêm các cột category, subCategory, price, stock, và available với giá trị mặc định\n",
    "df3[\"category\"] = 1\n",
    "df3[\"subCategory\"] = 1\n",
    "df3[\"price\"] = np.random.randint(100000, 500000, size=len(df3))\n",
    "df3[\"stock\"] = 100\n",
    "df3[\"available\"] = True\n",
    "df3[\"image\"] = r\"\\products\\2024\\04\\22\\view_-_2023-08-30T212959.480.png\"\n",
    "# df3['created'] = timezone.now()\n",
    "# df3['updated'] = timezone.now()\n",
    "\n",
    "# Tạo slug cho mỗi dòng dựa trên tiêu đề\n",
    "df3[\"slug\"] = df3[\"title\"].apply(slugify)"
   ]
  },
  {
   "cell_type": "code",
   "execution_count": 4,
   "metadata": {},
   "outputs": [],
   "source": [
    "# Tạo danh sách JSON theo cấu trúc của Django từ DataFrame df3\n",
    "django_json = []\n",
    "for index, row in df3.iterrows():\n",
    "    # Tạo một bản ghi mới theo cấu trúc của Django\n",
    "    django_record = {\n",
    "        \"model\": \"shop.Product\",  # Thay thế app_name và model_name bằng tên ứng dụng và tên model Django của bạn\n",
    "        \"fields\": {\n",
    "            \"category\": row[\"category\"],\n",
    "            \"subCategory\": row[\"subCategory\"],\n",
    "            \"name\": row[\"title\"],\n",
    "            \"slug\": row[\"slug\"],\n",
    "            \"description\": row[\"overview\"],\n",
    "            \"price\": row[\"price\"],\n",
    "            \"stock\": row[\"stock\"],\n",
    "            \"available\": row[\"available\"],\n",
    "            \"image\": row[\"image\"],\n",
    "        },\n",
    "    }\n",
    "    # Thêm bản ghi vào danh sách JSON của Django\n",
    "    django_json.append(django_record)\n",
    "\n",
    "# Xuất danh sách JSON ra một tệp\n",
    "with open(\"data.json\", \"w\") as f:\n",
    "    json.dump(django_json, f, indent=4)"
   ]
  }
 ],
 "metadata": {
  "kernelspec": {
   "display_name": "Python 3",
   "language": "python",
   "name": "python3"
  },
  "language_info": {
   "codemirror_mode": {
    "name": "ipython",
    "version": 3
   },
   "file_extension": ".py",
   "mimetype": "text/x-python",
   "name": "python",
   "nbconvert_exporter": "python",
   "pygments_lexer": "ipython3",
   "version": "3.11.4"
  }
 },
 "nbformat": 4,
 "nbformat_minor": 2
}
